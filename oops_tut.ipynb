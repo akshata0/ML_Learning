{
 "cells": [
  {
   "cell_type": "code",
   "execution_count": 19,
   "id": "0018a049-093d-476d-b979-8af9e118ef44",
   "metadata": {},
   "outputs": [],
   "source": [
    "class car:\n",
    "    def __init__(self,window,door,enginetype):\n",
    "        self.windows=window\n",
    "        self.door= door\n",
    "        self.enginetype=enginetype\n",
    "    def self_driving(self):\n",
    "        return \"This is a {} car\".format(self.enginetype)\n",
    "   "
   ]
  },
  {
   "cell_type": "code",
   "execution_count": 23,
   "id": "4dd711f5-0a9c-4118-923a-f2c1a1eb1a12",
   "metadata": {},
   "outputs": [],
   "source": [
    "car1=car(4,5,'petrol')"
   ]
  },
  {
   "cell_type": "code",
   "execution_count": 11,
   "id": "56a151be-4746-4b8b-b990-82aed78f06a5",
   "metadata": {},
   "outputs": [],
   "source": [
    "car2=car(2,3,\"diesel\")"
   ]
  },
  {
   "cell_type": "code",
   "execution_count": 13,
   "id": "ec33a225-ee14-4602-9b79-78472d177232",
   "metadata": {},
   "outputs": [
    {
     "name": "stdout",
     "output_type": "stream",
     "text": [
      "4\n"
     ]
    }
   ],
   "source": [
    "print(car1.windows)"
   ]
  },
  {
   "cell_type": "code",
   "execution_count": 25,
   "id": "892f3771-7b3b-452c-8854-0bb18baca1ab",
   "metadata": {},
   "outputs": [
    {
     "data": {
      "text/plain": [
       "'This is a petrol car'"
      ]
     },
     "execution_count": 25,
     "metadata": {},
     "output_type": "execute_result"
    }
   ],
   "source": [
    "car1.self_driving()"
   ]
  },
  {
   "cell_type": "code",
   "execution_count": 27,
   "id": "f99dbb34-92e5-4a50-bfbe-4f9030c0e25c",
   "metadata": {},
   "outputs": [],
   "source": [
    "##python Exception Handling\n",
    "# interview question\n",
    "# difference between error and exception "
   ]
  },
  {
   "cell_type": "code",
   "execution_count": 29,
   "id": "82eb3127-0ee1-400a-9272-6b8dfc458ba7",
   "metadata": {},
   "outputs": [
    {
     "ename": "NameError",
     "evalue": "name 'b' is not defined",
     "output_type": "error",
     "traceback": [
      "\u001b[1;31m---------------------------------------------------------------------------\u001b[0m",
      "\u001b[1;31mNameError\u001b[0m                                 Traceback (most recent call last)",
      "Cell \u001b[1;32mIn[29], line 1\u001b[0m\n\u001b[1;32m----> 1\u001b[0m a\u001b[38;5;241m=\u001b[39mb\n",
      "\u001b[1;31mNameError\u001b[0m: name 'b' is not defined"
     ]
    }
   ],
   "source": [
    "a=b "
   ]
  },
  {
   "cell_type": "code",
   "execution_count": 41,
   "id": "b11cf237-230d-48c5-aa9d-6da13c41e4e4",
   "metadata": {},
   "outputs": [
    {
     "name": "stdin",
     "output_type": "stream",
     "text": [
      "Enter the number 1 12\n",
      "enter the number 2 3\n"
     ]
    },
    {
     "name": "stdout",
     "output_type": "stream",
     "text": [
      "4.0\n",
      "15\n"
     ]
    }
   ],
   "source": [
    "#try else\n",
    "\n",
    "try :\n",
    "    a=int(input(\"Enter the number 1\"))\n",
    "    b=int(input(\"enter the number 2\"))     \n",
    "    # to write exception will occur \n",
    "    c=a/b\n",
    "    d=a+b\n",
    "except Exception as ex:\n",
    "    print(ex)\n",
    "else:\n",
    "    print(c)\n",
    "    print(d)"
   ]
  },
  {
   "cell_type": "code",
   "execution_count": null,
   "id": "2b308d94-553f-43f8-9321-eb5ba0c90650",
   "metadata": {},
   "outputs": [],
   "source": [
    "#try else finally \n"
   ]
  }
 ],
 "metadata": {
  "kernelspec": {
   "display_name": "Python 3 (ipykernel)",
   "language": "python",
   "name": "python3"
  },
  "language_info": {
   "codemirror_mode": {
    "name": "ipython",
    "version": 3
   },
   "file_extension": ".py",
   "mimetype": "text/x-python",
   "name": "python",
   "nbconvert_exporter": "python",
   "pygments_lexer": "ipython3",
   "version": "3.12.4"
  }
 },
 "nbformat": 4,
 "nbformat_minor": 5
}
